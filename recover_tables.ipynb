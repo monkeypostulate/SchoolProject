{
 "cells": [
  {
   "cell_type": "code",
   "execution_count": 9,
   "id": "badc6bd1-6dab-4dde-9db2-5577ba0597be",
   "metadata": {},
   "outputs": [],
   "source": [
    "from database import recovery"
   ]
  },
  {
   "cell_type": "code",
   "execution_count": 10,
   "id": "843e7eb7-b461-4e29-8ce7-e948ffe1be2c",
   "metadata": {},
   "outputs": [],
   "source": [
    "recovery_db = recovery.reset_database()"
   ]
  },
  {
   "cell_type": "code",
   "execution_count": null,
   "id": "6b3ef24f-5b62-4382-8c51-494589dad8ec",
   "metadata": {},
   "outputs": [],
   "source": [
    "# Recover the table course as it was on the timestamp\n",
    "recovery_db.reset_table(table = 'course',\n",
    "              timestamp = '2022-09-07 15:15:56.649703 UTC'\n",
    "             )"
   ]
  },
  {
   "cell_type": "code",
   "execution_count": null,
   "id": "0249f80a-eb97-4afb-b3b5-7d43ebde0f23",
   "metadata": {},
   "outputs": [],
   "source": [
    "# recover all tables needed for the school api.\n",
    "recovery_db.recover_school_database(\n",
    "    timestamp = '2022-09-07 15:15:56.649703 UTC')"
   ]
  },
  {
   "cell_type": "code",
   "execution_count": null,
   "id": "7b3e576a-8959-4688-86d5-7206e461f8ee",
   "metadata": {},
   "outputs": [],
   "source": [
    "# reset all tables\n",
    "recovery_db.reset_school_database()"
   ]
  }
 ],
 "metadata": {
  "environment": {
   "kernel": "python3",
   "name": "common-cpu.m95",
   "type": "gcloud",
   "uri": "gcr.io/deeplearning-platform-release/base-cpu:m95"
  },
  "kernelspec": {
   "display_name": "Python 3",
   "language": "python",
   "name": "python3"
  },
  "language_info": {
   "codemirror_mode": {
    "name": "ipython",
    "version": 3
   },
   "file_extension": ".py",
   "mimetype": "text/x-python",
   "name": "python",
   "nbconvert_exporter": "python",
   "pygments_lexer": "ipython3",
   "version": "3.7.12"
  }
 },
 "nbformat": 4,
 "nbformat_minor": 5
}
