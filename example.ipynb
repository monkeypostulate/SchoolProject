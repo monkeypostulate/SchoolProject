{
 "cells": [
  {
   "cell_type": "code",
   "execution_count": 1,
   "id": "038052a4-0448-450d-884d-c26358b33e93",
   "metadata": {},
   "outputs": [],
   "source": [
    "from  school.student import Student\n",
    "from school.course import SchoolCourse\n",
    "from school.student_course import StudentInCourse\n",
    "from school.student import SchoolStudent\n",
    "from school.grade import Grade"
   ]
  },
  {
   "cell_type": "markdown",
   "id": "2d0152e8-253f-4f11-812e-ae76b2c41e6a",
   "metadata": {},
   "source": [
    "<h1 style=\"text-align:center\">\n",
    "Create Students\n",
    "</h1>"
   ]
  },
  {
   "cell_type": "code",
   "execution_count": 2,
   "id": "a8666686-5a7b-49a2-aad0-b5763ae1daa3",
   "metadata": {},
   "outputs": [
    {
     "name": "stdout",
     "output_type": "stream",
     "text": [
      "New student added\n"
     ]
    },
    {
     "data": {
      "text/plain": [
       "True"
      ]
     },
     "execution_count": 2,
     "metadata": {},
     "output_type": "execute_result"
    }
   ],
   "source": [
    "SchoolStudent.student(first_name = 'Arturo',\n",
    "                        family_name = 'Camacho',\n",
    "                        credit_capacity = 10)"
   ]
  },
  {
   "cell_type": "code",
   "execution_count": 3,
   "id": "ca2e88e9-0590-4a32-9268-342ee454d47f",
   "metadata": {},
   "outputs": [
    {
     "name": "stdout",
     "output_type": "stream",
     "text": [
      "New student added\n"
     ]
    },
    {
     "data": {
      "text/plain": [
       "True"
      ]
     },
     "execution_count": 3,
     "metadata": {},
     "output_type": "execute_result"
    }
   ],
   "source": [
    "SchoolStudent.student(first_name = 'Abel',\n",
    "                        family_name = 'Camacho',\n",
    "                        credit_capacity = 8)"
   ]
  },
  {
   "cell_type": "code",
   "execution_count": 4,
   "id": "a13505ca-8ecc-40ef-8f61-8a74893b0fa5",
   "metadata": {},
   "outputs": [
    {
     "name": "stdout",
     "output_type": "stream",
     "text": [
      "New student added\n"
     ]
    },
    {
     "data": {
      "text/plain": [
       "True"
      ]
     },
     "execution_count": 4,
     "metadata": {},
     "output_type": "execute_result"
    }
   ],
   "source": [
    "SchoolStudent.student(first_name = 'Ivana',\n",
    "                        family_name = 'Simeunovic',\n",
    "                        credit_capacity = 8)"
   ]
  },
  {
   "cell_type": "code",
   "execution_count": 5,
   "id": "8cab62eb-753e-4e23-b633-d2153871b437",
   "metadata": {},
   "outputs": [
    {
     "name": "stdout",
     "output_type": "stream",
     "text": [
      "New student added\n"
     ]
    },
    {
     "data": {
      "text/plain": [
       "True"
      ]
     },
     "execution_count": 5,
     "metadata": {},
     "output_type": "execute_result"
    }
   ],
   "source": [
    "SchoolStudent.student(first_name = 'Elvis',\n",
    "                        family_name = 'Presley',\n",
    "                        credit_capacity = 8)"
   ]
  },
  {
   "cell_type": "markdown",
   "id": "d26ed9b2-4842-4ba4-845a-e62693183155",
   "metadata": {},
   "source": [
    "<h1 style=\"text-align:center\">\n",
    "Update Student\n",
    "</h1>"
   ]
  },
  {
   "cell_type": "code",
   "execution_count": 6,
   "id": "edab5c96-a72c-4de4-a2f3-4944bb4b3cd8",
   "metadata": {},
   "outputs": [],
   "source": [
    "SchoolStudent.student(first_name = 'Arturo',\n",
    "                        family_name = 'Camacho Guardian',\n",
    "                        credit_capacity = 10,\n",
    "                                student_id = 2)"
   ]
  },
  {
   "cell_type": "code",
   "execution_count": null,
   "id": "d8cfbf31-aaae-45f6-85e9-821a12da64b2",
   "metadata": {},
   "outputs": [],
   "source": [
    "SchoolStudent.student(first_name = 'Abel',\n",
    "                        family_name = 'Camacho',\n",
    "                        credit_capacity = 10,\n",
    "                                student_id = 1)"
   ]
  },
  {
   "cell_type": "markdown",
   "id": "eaadf1ca-589d-42ab-8697-ecd34417716b",
   "metadata": {},
   "source": [
    "<h1 style=\"text-align:center\">\n",
    "Remove Student\n",
    "</h1>"
   ]
  },
  {
   "cell_type": "code",
   "execution_count": null,
   "id": "f92431a3-27cc-46be-ad3b-86374377eb66",
   "metadata": {},
   "outputs": [],
   "source": [
    "SchoolStudent.student_information(student_id = 2,\n",
    "                                            student_information = 'student average')"
   ]
  },
  {
   "cell_type": "markdown",
   "id": "a2b22c73-3e2a-4eee-8459-ace2a442669d",
   "metadata": {},
   "source": [
    "<h1 style=\"text-align:center\">\n",
    "Create Course\n",
    "</h1>"
   ]
  },
  {
   "cell_type": "code",
   "execution_count": 2,
   "id": "aaea503c-d6ca-48ed-8dcb-65b503e515d9",
   "metadata": {},
   "outputs": [
    {
     "name": "stdout",
     "output_type": "stream",
     "text": [
      "Course added\n"
     ]
    }
   ],
   "source": [
    "SchoolCourse.course(course_name = 'Dummy Course',\n",
    "                     start_date = '2000-01-01',\n",
    "                     end_date = '2000-01-01',\n",
    "                     credit = 3,\n",
    "                     capacity =10)"
   ]
  },
  {
   "cell_type": "code",
   "execution_count": 3,
   "id": "11c0b736-b085-4940-a06b-ad1a14345027",
   "metadata": {},
   "outputs": [
    {
     "name": "stdout",
     "output_type": "stream",
     "text": [
      "Course added\n"
     ]
    }
   ],
   "source": [
    "SchoolCourse.course(course_name = 'Linear Algebra I',\n",
    "                     start_date = '2021-01-15',\n",
    "                     end_date = '2021-01-20',\n",
    "                     credit = 3,\n",
    "                     capacity =10)"
   ]
  },
  {
   "cell_type": "code",
   "execution_count": 4,
   "id": "a582aea5-5a99-4521-a513-06764051a51b",
   "metadata": {},
   "outputs": [
    {
     "name": "stdout",
     "output_type": "stream",
     "text": [
      "Course added\n"
     ]
    }
   ],
   "source": [
    "SchoolCourse.course(course_name = 'Linear Algebra II',\n",
    "                     start_date = '2021-01-15',\n",
    "                     end_date = '2021-01-20',\n",
    "                     credit = 3,\n",
    "                     capacity =3)"
   ]
  },
  {
   "cell_type": "code",
   "execution_count": 5,
   "id": "efc54c5d-d14a-46d1-bd3b-d2f0015b22b6",
   "metadata": {},
   "outputs": [
    {
     "name": "stdout",
     "output_type": "stream",
     "text": [
      "Course added\n"
     ]
    }
   ],
   "source": [
    "SchoolCourse.course(course_name = 'Calculus I',\n",
    "                     start_date = '2021-02-01',\n",
    "                     end_date = '2021-02-15',\n",
    "                     credit = 3,\n",
    "                     capacity =10)"
   ]
  },
  {
   "cell_type": "markdown",
   "id": "0fd6b84f-f52f-4cad-b1f8-cc71b845c5fe",
   "metadata": {},
   "source": [
    "<h1 style=\"text-align:center\">\n",
    "Add schedules\n",
    "</h1>"
   ]
  },
  {
   "cell_type": "code",
   "execution_count": null,
   "id": "2504b669-bc35-4e51-b61b-46b80cdde508",
   "metadata": {},
   "outputs": [],
   "source": []
  },
  {
   "cell_type": "code",
   "execution_count": null,
   "id": "8530002e-754f-4f89-902d-2eb763e23dad",
   "metadata": {},
   "outputs": [],
   "source": []
  },
  {
   "cell_type": "markdown",
   "id": "870f3f80-afbb-4c2f-a946-ec4b9aa81401",
   "metadata": {},
   "source": [
    "<h1 style = \"text-align:center\">\n",
    "Add student to course \n",
    "</h1>"
   ]
  },
  {
   "cell_type": "code",
   "execution_count": 6,
   "id": "c6881bf7-85e7-4309-bf7e-8607235754c4",
   "metadata": {},
   "outputs": [],
   "source": [
    "new_student_in_course = SchoolCourse()\n",
    "new_student_in_course.student_to_course(student_id = 1,\n",
    "                                        course_id = 1)"
   ]
  },
  {
   "cell_type": "code",
   "execution_count": 7,
   "id": "0e55e8a5-36c4-497a-a933-3bd8b707e8ad",
   "metadata": {},
   "outputs": [],
   "source": [
    "new_student_in_course = SchoolCourse()\n",
    "new_student_in_course.student_to_course(student_id = 1,\n",
    "                                        course_id = 2)"
   ]
  },
  {
   "cell_type": "code",
   "execution_count": 8,
   "id": "0cb438de-4dbc-4bd6-9ace-f35ff6705195",
   "metadata": {},
   "outputs": [],
   "source": [
    "new_student_in_course = SchoolCourse()\n",
    "new_student_in_course.student_to_course(student_id = 1,\n",
    "                                        course_id = 3)"
   ]
  },
  {
   "cell_type": "code",
   "execution_count": 9,
   "id": "68a71252-55d4-4aa6-b424-45bb86450dae",
   "metadata": {},
   "outputs": [],
   "source": [
    "new_student_in_course = SchoolCourse()\n",
    "new_student_in_course.student_to_course(student_id = 2,\n",
    "                                        course_id = 3)"
   ]
  },
  {
   "cell_type": "code",
   "execution_count": 10,
   "id": "6f0dfac2-127b-4be2-8669-3fe2fd715ac8",
   "metadata": {},
   "outputs": [],
   "source": [
    "new_student_in_course = SchoolCourse()\n",
    "new_student_in_course.student_to_course(student_id = 3,\n",
    "                                        course_id = 3)"
   ]
  },
  {
   "cell_type": "markdown",
   "id": "beced64c-4ff7-4c2d-88c2-85231fdb7ec0",
   "metadata": {},
   "source": [
    "<h1 style = \"text-align:center\">\n",
    "Give student a grade\n",
    "</h1>"
   ]
  },
  {
   "cell_type": "code",
   "execution_count": 11,
   "id": "b085888d-1069-4bc3-bc99-7e7fe27513ee",
   "metadata": {},
   "outputs": [],
   "source": [
    "add_grade = Grade(course_id = 1)\n",
    "add_grade.add(student_id = 1,\n",
    "              grade = 'A')"
   ]
  },
  {
   "cell_type": "code",
   "execution_count": 12,
   "id": "722845f9-289b-44c5-8a3d-be3b09676008",
   "metadata": {},
   "outputs": [],
   "source": [
    "add_grade = Grade(course_id = 2)\n",
    "add_grade.add(student_id = 1,\n",
    "              grade = 'B')"
   ]
  },
  {
   "cell_type": "code",
   "execution_count": 13,
   "id": "18b38d11-4ed2-4e02-9e48-337b79ceef36",
   "metadata": {},
   "outputs": [],
   "source": [
    "add_grade = Grade(course_id = 3)\n",
    "add_grade.add(student_id = 1,\n",
    "              grade = 'B')"
   ]
  },
  {
   "cell_type": "code",
   "execution_count": 14,
   "id": "d33bebda-f028-4ed5-804b-caae54c396ea",
   "metadata": {},
   "outputs": [],
   "source": [
    "add_grade = Grade(course_id = 3)\n",
    "add_grade.add(student_id = 2,\n",
    "              grade = 'F')"
   ]
  },
  {
   "cell_type": "code",
   "execution_count": 15,
   "id": "19a80969-61c3-4559-bab8-c15ac2a89880",
   "metadata": {},
   "outputs": [],
   "source": [
    "add_grade = Grade(course_id = 3)\n",
    "add_grade.add(student_id = 3,\n",
    "              grade = 'A')"
   ]
  },
  {
   "cell_type": "markdown",
   "id": "8067de20-d8f5-406c-a741-8e24a514a1d6",
   "metadata": {},
   "source": [
    "<h1 style = \"text-align:center\">\n",
    "Get Student course information\n",
    "</h1>"
   ]
  },
  {
   "cell_type": "code",
   "execution_count": 16,
   "id": "8977cde1-0f45-4ca0-aa5e-a9567e86d26c",
   "metadata": {},
   "outputs": [
    {
     "data": {
      "text/html": [
       "<div>\n",
       "<style scoped>\n",
       "    .dataframe tbody tr th:only-of-type {\n",
       "        vertical-align: middle;\n",
       "    }\n",
       "\n",
       "    .dataframe tbody tr th {\n",
       "        vertical-align: top;\n",
       "    }\n",
       "\n",
       "    .dataframe thead th {\n",
       "        text-align: right;\n",
       "    }\n",
       "</style>\n",
       "<table border=\"1\" class=\"dataframe\">\n",
       "  <thead>\n",
       "    <tr style=\"text-align: right;\">\n",
       "      <th></th>\n",
       "      <th>StudentId</th>\n",
       "      <th>FirstName</th>\n",
       "      <th>FamilyName</th>\n",
       "      <th>CourseName</th>\n",
       "    </tr>\n",
       "  </thead>\n",
       "  <tbody>\n",
       "    <tr>\n",
       "      <th>0</th>\n",
       "      <td>1</td>\n",
       "      <td>Arturo</td>\n",
       "      <td>Camacho</td>\n",
       "      <td>Dummy Course</td>\n",
       "    </tr>\n",
       "    <tr>\n",
       "      <th>1</th>\n",
       "      <td>1</td>\n",
       "      <td>Arturo</td>\n",
       "      <td>Camacho</td>\n",
       "      <td>Linear Algebra I</td>\n",
       "    </tr>\n",
       "    <tr>\n",
       "      <th>2</th>\n",
       "      <td>1</td>\n",
       "      <td>Arturo</td>\n",
       "      <td>Camacho</td>\n",
       "      <td>Linear Algebra II</td>\n",
       "    </tr>\n",
       "  </tbody>\n",
       "</table>\n",
       "</div>"
      ],
      "text/plain": [
       "   StudentId FirstName FamilyName         CourseName\n",
       "0          1    Arturo    Camacho       Dummy Course\n",
       "1          1    Arturo    Camacho   Linear Algebra I\n",
       "2          1    Arturo    Camacho  Linear Algebra II"
      ]
     },
     "execution_count": 16,
     "metadata": {},
     "output_type": "execute_result"
    }
   ],
   "source": [
    "SchoolStudent.student_information(student_id = 1, \n",
    "                                 student_information = 'all courses')"
   ]
  },
  {
   "cell_type": "code",
   "execution_count": 17,
   "id": "b43a4b38-7de3-4731-a8c3-74a17fbd1005",
   "metadata": {},
   "outputs": [
    {
     "data": {
      "text/html": [
       "<div>\n",
       "<style scoped>\n",
       "    .dataframe tbody tr th:only-of-type {\n",
       "        vertical-align: middle;\n",
       "    }\n",
       "\n",
       "    .dataframe tbody tr th {\n",
       "        vertical-align: top;\n",
       "    }\n",
       "\n",
       "    .dataframe thead th {\n",
       "        text-align: right;\n",
       "    }\n",
       "</style>\n",
       "<table border=\"1\" class=\"dataframe\">\n",
       "  <thead>\n",
       "    <tr style=\"text-align: right;\">\n",
       "      <th></th>\n",
       "      <th>StudentId</th>\n",
       "      <th>FirstName</th>\n",
       "      <th>FamilyName</th>\n",
       "      <th>CourseName</th>\n",
       "    </tr>\n",
       "  </thead>\n",
       "  <tbody>\n",
       "    <tr>\n",
       "      <th>0</th>\n",
       "      <td>2</td>\n",
       "      <td>Abel</td>\n",
       "      <td>Camacho</td>\n",
       "      <td>Linear Algebra II</td>\n",
       "    </tr>\n",
       "  </tbody>\n",
       "</table>\n",
       "</div>"
      ],
      "text/plain": [
       "   StudentId FirstName FamilyName         CourseName\n",
       "0          2      Abel    Camacho  Linear Algebra II"
      ]
     },
     "execution_count": 17,
     "metadata": {},
     "output_type": "execute_result"
    }
   ],
   "source": [
    "SchoolStudent.student_information(student_id = 2, \n",
    "                                 student_information = 'all courses')"
   ]
  },
  {
   "cell_type": "code",
   "execution_count": 18,
   "id": "64040d2f-de38-4bd6-8829-79ff45023fac",
   "metadata": {},
   "outputs": [
    {
     "data": {
      "text/html": [
       "<div>\n",
       "<style scoped>\n",
       "    .dataframe tbody tr th:only-of-type {\n",
       "        vertical-align: middle;\n",
       "    }\n",
       "\n",
       "    .dataframe tbody tr th {\n",
       "        vertical-align: top;\n",
       "    }\n",
       "\n",
       "    .dataframe thead th {\n",
       "        text-align: right;\n",
       "    }\n",
       "</style>\n",
       "<table border=\"1\" class=\"dataframe\">\n",
       "  <thead>\n",
       "    <tr style=\"text-align: right;\">\n",
       "      <th></th>\n",
       "      <th>StudentId</th>\n",
       "      <th>FirstName</th>\n",
       "      <th>FamilyName</th>\n",
       "      <th>CourseName</th>\n",
       "    </tr>\n",
       "  </thead>\n",
       "  <tbody>\n",
       "    <tr>\n",
       "      <th>0</th>\n",
       "      <td>3</td>\n",
       "      <td>Ivana</td>\n",
       "      <td>Simeunovic</td>\n",
       "      <td>Linear Algebra II</td>\n",
       "    </tr>\n",
       "  </tbody>\n",
       "</table>\n",
       "</div>"
      ],
      "text/plain": [
       "   StudentId FirstName  FamilyName         CourseName\n",
       "0          3     Ivana  Simeunovic  Linear Algebra II"
      ]
     },
     "execution_count": 18,
     "metadata": {},
     "output_type": "execute_result"
    }
   ],
   "source": [
    "SchoolStudent.student_information(student_id = 3, \n",
    "                                 student_information = 'all courses')"
   ]
  },
  {
   "cell_type": "code",
   "execution_count": null,
   "id": "9298dca9-a7c6-46f1-b41d-4ff3ebfb4e3c",
   "metadata": {},
   "outputs": [],
   "source": []
  },
  {
   "cell_type": "code",
   "execution_count": 19,
   "id": "e3ec3d87-9b7b-408e-aeb8-a62db6de846e",
   "metadata": {},
   "outputs": [
    {
     "data": {
      "text/html": [
       "<div>\n",
       "<style scoped>\n",
       "    .dataframe tbody tr th:only-of-type {\n",
       "        vertical-align: middle;\n",
       "    }\n",
       "\n",
       "    .dataframe tbody tr th {\n",
       "        vertical-align: top;\n",
       "    }\n",
       "\n",
       "    .dataframe thead th {\n",
       "        text-align: right;\n",
       "    }\n",
       "</style>\n",
       "<table border=\"1\" class=\"dataframe\">\n",
       "  <thead>\n",
       "    <tr style=\"text-align: right;\">\n",
       "      <th></th>\n",
       "      <th>FirstName</th>\n",
       "      <th>FamilyName</th>\n",
       "      <th>Grade</th>\n",
       "      <th>CourseName</th>\n",
       "    </tr>\n",
       "  </thead>\n",
       "  <tbody>\n",
       "    <tr>\n",
       "      <th>0</th>\n",
       "      <td>Abel</td>\n",
       "      <td>Camacho</td>\n",
       "      <td>B</td>\n",
       "      <td>Linear Algebra II</td>\n",
       "    </tr>\n",
       "    <tr>\n",
       "      <th>1</th>\n",
       "      <td>Abel</td>\n",
       "      <td>Camacho</td>\n",
       "      <td>F</td>\n",
       "      <td>Linear Algebra II</td>\n",
       "    </tr>\n",
       "  </tbody>\n",
       "</table>\n",
       "</div>"
      ],
      "text/plain": [
       "  FirstName FamilyName Grade         CourseName\n",
       "0      Abel    Camacho     B  Linear Algebra II\n",
       "1      Abel    Camacho     F  Linear Algebra II"
      ]
     },
     "execution_count": 19,
     "metadata": {},
     "output_type": "execute_result"
    }
   ],
   "source": [
    "SchoolStudent.student_information(student_id = 2,\n",
    "                                         course_id = 3,\n",
    "                                            student_information = 'course grade')"
   ]
  },
  {
   "cell_type": "code",
   "execution_count": 20,
   "id": "04fc261e-5103-404a-a253-8f2d393a7991",
   "metadata": {},
   "outputs": [
    {
     "data": {
      "text/html": [
       "<div>\n",
       "<style scoped>\n",
       "    .dataframe tbody tr th:only-of-type {\n",
       "        vertical-align: middle;\n",
       "    }\n",
       "\n",
       "    .dataframe tbody tr th {\n",
       "        vertical-align: top;\n",
       "    }\n",
       "\n",
       "    .dataframe thead th {\n",
       "        text-align: right;\n",
       "    }\n",
       "</style>\n",
       "<table border=\"1\" class=\"dataframe\">\n",
       "  <thead>\n",
       "    <tr style=\"text-align: right;\">\n",
       "      <th></th>\n",
       "      <th>FirstName</th>\n",
       "      <th>FamilyName</th>\n",
       "      <th>Grade</th>\n",
       "      <th>CourseName</th>\n",
       "    </tr>\n",
       "  </thead>\n",
       "  <tbody>\n",
       "    <tr>\n",
       "      <th>0</th>\n",
       "      <td>Abel</td>\n",
       "      <td>Camacho</td>\n",
       "      <td>A</td>\n",
       "      <td>Dummy Course</td>\n",
       "    </tr>\n",
       "    <tr>\n",
       "      <th>1</th>\n",
       "      <td>Abel</td>\n",
       "      <td>Camacho</td>\n",
       "      <td>B</td>\n",
       "      <td>Dummy Course</td>\n",
       "    </tr>\n",
       "  </tbody>\n",
       "</table>\n",
       "</div>"
      ],
      "text/plain": [
       "  FirstName FamilyName Grade    CourseName\n",
       "0      Abel    Camacho     A  Dummy Course\n",
       "1      Abel    Camacho     B  Dummy Course"
      ]
     },
     "execution_count": 20,
     "metadata": {},
     "output_type": "execute_result"
    }
   ],
   "source": [
    "SchoolStudent.student_information(student_id = 2,\n",
    "                                         course_id = 1,\n",
    "                                            student_information = 'course grade')"
   ]
  },
  {
   "cell_type": "code",
   "execution_count": 24,
   "id": "9ba8e5b7-41f4-4ed0-b033-3a4031973b3f",
   "metadata": {},
   "outputs": [
    {
     "data": {
      "text/html": [
       "<div>\n",
       "<style scoped>\n",
       "    .dataframe tbody tr th:only-of-type {\n",
       "        vertical-align: middle;\n",
       "    }\n",
       "\n",
       "    .dataframe tbody tr th {\n",
       "        vertical-align: top;\n",
       "    }\n",
       "\n",
       "    .dataframe thead th {\n",
       "        text-align: right;\n",
       "    }\n",
       "</style>\n",
       "<table border=\"1\" class=\"dataframe\">\n",
       "  <thead>\n",
       "    <tr style=\"text-align: right;\">\n",
       "      <th></th>\n",
       "      <th>FirstName</th>\n",
       "      <th>FamilyName</th>\n",
       "      <th>AverageGrade</th>\n",
       "    </tr>\n",
       "  </thead>\n",
       "  <tbody>\n",
       "    <tr>\n",
       "      <th>0</th>\n",
       "      <td>Arturo</td>\n",
       "      <td>Camacho</td>\n",
       "      <td>4.294118</td>\n",
       "    </tr>\n",
       "  </tbody>\n",
       "</table>\n",
       "</div>"
      ],
      "text/plain": [
       "  FirstName FamilyName  AverageGrade\n",
       "0    Arturo    Camacho      4.294118"
      ]
     },
     "execution_count": 24,
     "metadata": {},
     "output_type": "execute_result"
    }
   ],
   "source": [
    "SchoolStudent.student_information(student_id = 1,\n",
    "                                            student_information = 'student average')"
   ]
  },
  {
   "cell_type": "code",
   "execution_count": 23,
   "id": "666b9d15-ba8b-448f-8879-f1c7bcee99c4",
   "metadata": {},
   "outputs": [
    {
     "data": {
      "text/html": [
       "<div>\n",
       "<style scoped>\n",
       "    .dataframe tbody tr th:only-of-type {\n",
       "        vertical-align: middle;\n",
       "    }\n",
       "\n",
       "    .dataframe tbody tr th {\n",
       "        vertical-align: top;\n",
       "    }\n",
       "\n",
       "    .dataframe thead th {\n",
       "        text-align: right;\n",
       "    }\n",
       "</style>\n",
       "<table border=\"1\" class=\"dataframe\">\n",
       "  <thead>\n",
       "    <tr style=\"text-align: right;\">\n",
       "      <th></th>\n",
       "      <th>FirstName</th>\n",
       "      <th>FamilyName</th>\n",
       "      <th>AverageGrade</th>\n",
       "    </tr>\n",
       "  </thead>\n",
       "  <tbody>\n",
       "    <tr>\n",
       "      <th>0</th>\n",
       "      <td>Abel</td>\n",
       "      <td>Camacho</td>\n",
       "      <td>3.0</td>\n",
       "    </tr>\n",
       "  </tbody>\n",
       "</table>\n",
       "</div>"
      ],
      "text/plain": [
       "  FirstName FamilyName  AverageGrade\n",
       "0      Abel    Camacho           3.0"
      ]
     },
     "execution_count": 23,
     "metadata": {},
     "output_type": "execute_result"
    }
   ],
   "source": [
    "SchoolStudent.student_information(student_id = 2,\n",
    "                                            student_information = 'student average')"
   ]
  },
  {
   "cell_type": "code",
   "execution_count": 25,
   "id": "dafc57d4-a52a-4417-adee-37bd6e1a732b",
   "metadata": {},
   "outputs": [
    {
     "data": {
      "text/html": [
       "<div>\n",
       "<style scoped>\n",
       "    .dataframe tbody tr th:only-of-type {\n",
       "        vertical-align: middle;\n",
       "    }\n",
       "\n",
       "    .dataframe tbody tr th {\n",
       "        vertical-align: top;\n",
       "    }\n",
       "\n",
       "    .dataframe thead th {\n",
       "        text-align: right;\n",
       "    }\n",
       "</style>\n",
       "<table border=\"1\" class=\"dataframe\">\n",
       "  <thead>\n",
       "    <tr style=\"text-align: right;\">\n",
       "      <th></th>\n",
       "      <th>FirstName</th>\n",
       "      <th>FamilyName</th>\n",
       "      <th>AverageGrade</th>\n",
       "    </tr>\n",
       "  </thead>\n",
       "  <tbody>\n",
       "    <tr>\n",
       "      <th>0</th>\n",
       "      <td>Ivana</td>\n",
       "      <td>Simeunovic</td>\n",
       "      <td>4.8</td>\n",
       "    </tr>\n",
       "  </tbody>\n",
       "</table>\n",
       "</div>"
      ],
      "text/plain": [
       "  FirstName  FamilyName  AverageGrade\n",
       "0     Ivana  Simeunovic           4.8"
      ]
     },
     "execution_count": 25,
     "metadata": {},
     "output_type": "execute_result"
    }
   ],
   "source": [
    "SchoolStudent.student_information(student_id = 3,\n",
    "                                            student_information = 'student average')"
   ]
  },
  {
   "cell_type": "code",
   "execution_count": null,
   "id": "1fb6b5b5-d1a7-42dc-ba97-a33edf24f52c",
   "metadata": {},
   "outputs": [],
   "source": []
  }
 ],
 "metadata": {
  "environment": {
   "kernel": "python3",
   "name": "common-cpu.m95",
   "type": "gcloud",
   "uri": "gcr.io/deeplearning-platform-release/base-cpu:m95"
  },
  "kernelspec": {
   "display_name": "Python 3",
   "language": "python",
   "name": "python3"
  },
  "language_info": {
   "codemirror_mode": {
    "name": "ipython",
    "version": 3
   },
   "file_extension": ".py",
   "mimetype": "text/x-python",
   "name": "python",
   "nbconvert_exporter": "python",
   "pygments_lexer": "ipython3",
   "version": "3.7.12"
  }
 },
 "nbformat": 4,
 "nbformat_minor": 5
}
