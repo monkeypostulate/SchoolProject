{
 "cells": [
  {
   "cell_type": "code",
   "execution_count": 1,
   "id": "038052a4-0448-450d-884d-c26358b33e93",
   "metadata": {},
   "outputs": [],
   "source": [
    "from  school.student import Student\n",
    "from school.course import SchoolCourse\n",
    "from school.student_course import StudentInCourse\n",
    "from school.student import SchoolStudent\n",
    "from school.grade import Grade"
   ]
  },
  {
   "cell_type": "markdown",
   "id": "2d0152e8-253f-4f11-812e-ae76b2c41e6a",
   "metadata": {},
   "source": [
    "<h1 style=\"text-align:center\">\n",
    "Create Students\n",
    "</h1>"
   ]
  },
  {
   "cell_type": "code",
   "execution_count": 2,
   "id": "a8666686-5a7b-49a2-aad0-b5763ae1daa3",
   "metadata": {},
   "outputs": [
    {
     "name": "stdout",
     "output_type": "stream",
     "text": [
      "New student added\n"
     ]
    },
    {
     "data": {
      "text/plain": [
       "True"
      ]
     },
     "execution_count": 2,
     "metadata": {},
     "output_type": "execute_result"
    }
   ],
   "source": [
    "SchoolStudent.student(first_name = 'Arturo',\n",
    "                        family_name = 'Camacho',\n",
    "                        credit_capacity = 10)"
   ]
  },
  {
   "cell_type": "code",
   "execution_count": 3,
   "id": "ca2e88e9-0590-4a32-9268-342ee454d47f",
   "metadata": {},
   "outputs": [
    {
     "name": "stdout",
     "output_type": "stream",
     "text": [
      "New student added\n"
     ]
    },
    {
     "data": {
      "text/plain": [
       "True"
      ]
     },
     "execution_count": 3,
     "metadata": {},
     "output_type": "execute_result"
    }
   ],
   "source": [
    "SchoolStudent.student(first_name = 'Abel',\n",
    "                        family_name = 'Camacho',\n",
    "                        credit_capacity = 8)"
   ]
  },
  {
   "cell_type": "code",
   "execution_count": 5,
   "id": "a13505ca-8ecc-40ef-8f61-8a74893b0fa5",
   "metadata": {},
   "outputs": [
    {
     "name": "stdout",
     "output_type": "stream",
     "text": [
      "New student added\n"
     ]
    },
    {
     "data": {
      "text/plain": [
       "True"
      ]
     },
     "execution_count": 5,
     "metadata": {},
     "output_type": "execute_result"
    }
   ],
   "source": [
    "SchoolStudent.student(first_name = 'Ivana',\n",
    "                        family_name = 'Simeunovic',\n",
    "                        credit_capacity = 8)"
   ]
  },
  {
   "cell_type": "code",
   "execution_count": 4,
   "id": "8cab62eb-753e-4e23-b633-d2153871b437",
   "metadata": {},
   "outputs": [
    {
     "name": "stdout",
     "output_type": "stream",
     "text": [
      "New student added\n"
     ]
    },
    {
     "data": {
      "text/plain": [
       "True"
      ]
     },
     "execution_count": 4,
     "metadata": {},
     "output_type": "execute_result"
    }
   ],
   "source": [
    "SchoolStudent.student(first_name = 'Elvis',\n",
    "                        family_name = 'Presley',\n",
    "                        credit_capacity = 8)"
   ]
  },
  {
   "cell_type": "markdown",
   "id": "d26ed9b2-4842-4ba4-845a-e62693183155",
   "metadata": {},
   "source": [
    "<h1 style=\"text-align:center\">\n",
    "Update Student\n",
    "</h1>"
   ]
  },
  {
   "cell_type": "code",
   "execution_count": 7,
   "id": "edab5c96-a72c-4de4-a2f3-4944bb4b3cd8",
   "metadata": {},
   "outputs": [
    {
     "name": "stdout",
     "output_type": "stream",
     "text": [
      "student info updated\n"
     ]
    },
    {
     "data": {
      "text/plain": [
       "True"
      ]
     },
     "execution_count": 7,
     "metadata": {},
     "output_type": "execute_result"
    }
   ],
   "source": [
    "SchoolStudent.student(first_name = 'Arturo',\n",
    "                        family_name = 'Camacho Guardian',\n",
    "                        credit_capacity = 10,\n",
    "                                student_id = 2)"
   ]
  },
  {
   "cell_type": "code",
   "execution_count": 13,
   "id": "d8cfbf31-aaae-45f6-85e9-821a12da64b2",
   "metadata": {},
   "outputs": [],
   "source": [
    "SchoolStudent.student(first_name = 'Abel',\n",
    "                        family_name = 'Camacho Guardian',\n",
    "                        credit_capacity = 10,\n",
    "                                student_id = 1)"
   ]
  },
  {
   "cell_type": "markdown",
   "id": "eaadf1ca-589d-42ab-8697-ecd34417716b",
   "metadata": {},
   "source": [
    "<h1 style=\"text-align:center\">\n",
    "Remove Student\n",
    "</h1>"
   ]
  },
  {
   "cell_type": "code",
   "execution_count": 6,
   "id": "f92431a3-27cc-46be-ad3b-86374377eb66",
   "metadata": {},
   "outputs": [
    {
     "name": "stdout",
     "output_type": "stream",
     "text": [
      "student removed\n"
     ]
    },
    {
     "data": {
      "text/plain": [
       "True"
      ]
     },
     "execution_count": 6,
     "metadata": {},
     "output_type": "execute_result"
    }
   ],
   "source": [
    "SchoolStudent.student(student_id = 5,\n",
    "                                 remove_student =True)"
   ]
  },
  {
   "cell_type": "markdown",
   "id": "a2b22c73-3e2a-4eee-8459-ace2a442669d",
   "metadata": {},
   "source": [
    "<h1 style=\"text-align:center\">\n",
    "Create Course\n",
    "</h1>"
   ]
  },
  {
   "cell_type": "code",
   "execution_count": 7,
   "id": "aaea503c-d6ca-48ed-8dcb-65b503e515d9",
   "metadata": {},
   "outputs": [
    {
     "name": "stdout",
     "output_type": "stream",
     "text": [
      "Course added\n"
     ]
    }
   ],
   "source": [
    "SchoolCourse.course(course_name = 'Dummy Course',\n",
    "                     start_date = '2000-01-01',\n",
    "                     end_date = '2000-01-01',\n",
    "                     credit = 3,\n",
    "                     capacity =10)"
   ]
  },
  {
   "cell_type": "code",
   "execution_count": 8,
   "id": "11c0b736-b085-4940-a06b-ad1a14345027",
   "metadata": {},
   "outputs": [
    {
     "name": "stdout",
     "output_type": "stream",
     "text": [
      "Course added\n"
     ]
    }
   ],
   "source": [
    "SchoolCourse.course(course_name = 'Linear Algebra I',\n",
    "                     start_date = '2021-01-15',\n",
    "                     end_date = '2021-01-20',\n",
    "                     credit = 3,\n",
    "                     capacity =10)"
   ]
  },
  {
   "cell_type": "code",
   "execution_count": 9,
   "id": "a582aea5-5a99-4521-a513-06764051a51b",
   "metadata": {},
   "outputs": [
    {
     "name": "stdout",
     "output_type": "stream",
     "text": [
      "Course added\n"
     ]
    }
   ],
   "source": [
    "SchoolCourse.course(course_name = 'Linear Algebra II',\n",
    "                     start_date = '2021-01-15',\n",
    "                     end_date = '2021-01-20',\n",
    "                     credit = 3,\n",
    "                     capacity =3)"
   ]
  },
  {
   "cell_type": "code",
   "execution_count": 10,
   "id": "efc54c5d-d14a-46d1-bd3b-d2f0015b22b6",
   "metadata": {},
   "outputs": [
    {
     "name": "stdout",
     "output_type": "stream",
     "text": [
      "Course added\n"
     ]
    }
   ],
   "source": [
    "SchoolCourse.course(course_name = 'Calculus I',\n",
    "                     start_date = '2021-02-01',\n",
    "                     end_date = '2021-02-15',\n",
    "                     credit = 3,\n",
    "                     capacity =10)"
   ]
  },
  {
   "cell_type": "markdown",
   "id": "870f3f80-afbb-4c2f-a946-ec4b9aa81401",
   "metadata": {},
   "source": [
    "<h1 style = \"text-align:center\">\n",
    "Get Student Information\n",
    "</h1>"
   ]
  },
  {
   "cell_type": "code",
   "execution_count": null,
   "id": "c6881bf7-85e7-4309-bf7e-8607235754c4",
   "metadata": {},
   "outputs": [],
   "source": []
  },
  {
   "cell_type": "code",
   "execution_count": null,
   "id": "0e55e8a5-36c4-497a-a933-3bd8b707e8ad",
   "metadata": {},
   "outputs": [],
   "source": []
  },
  {
   "cell_type": "code",
   "execution_count": null,
   "id": "68a71252-55d4-4aa6-b424-45bb86450dae",
   "metadata": {},
   "outputs": [],
   "source": []
  },
  {
   "cell_type": "markdown",
   "id": "8067de20-d8f5-406c-a741-8e24a514a1d6",
   "metadata": {},
   "source": [
    "<h1 style = \"text-align:center\">\n",
    "Get Student course information\n",
    "</h1>"
   ]
  },
  {
   "cell_type": "code",
   "execution_count": 16,
   "id": "8977cde1-0f45-4ca0-aa5e-a9567e86d26c",
   "metadata": {},
   "outputs": [
    {
     "data": {
      "text/html": [
       "<div>\n",
       "<style scoped>\n",
       "    .dataframe tbody tr th:only-of-type {\n",
       "        vertical-align: middle;\n",
       "    }\n",
       "\n",
       "    .dataframe tbody tr th {\n",
       "        vertical-align: top;\n",
       "    }\n",
       "\n",
       "    .dataframe thead th {\n",
       "        text-align: right;\n",
       "    }\n",
       "</style>\n",
       "<table border=\"1\" class=\"dataframe\">\n",
       "  <thead>\n",
       "    <tr style=\"text-align: right;\">\n",
       "      <th></th>\n",
       "      <th>CourseName</th>\n",
       "    </tr>\n",
       "  </thead>\n",
       "  <tbody>\n",
       "    <tr>\n",
       "      <th>0</th>\n",
       "      <td>german</td>\n",
       "    </tr>\n",
       "    <tr>\n",
       "      <th>1</th>\n",
       "      <td>spanish</td>\n",
       "    </tr>\n",
       "    <tr>\n",
       "      <th>2</th>\n",
       "      <td>german</td>\n",
       "    </tr>\n",
       "    <tr>\n",
       "      <th>3</th>\n",
       "      <td>math</td>\n",
       "    </tr>\n",
       "    <tr>\n",
       "      <th>4</th>\n",
       "      <td>math</td>\n",
       "    </tr>\n",
       "    <tr>\n",
       "      <th>5</th>\n",
       "      <td>spanish</td>\n",
       "    </tr>\n",
       "  </tbody>\n",
       "</table>\n",
       "</div>"
      ],
      "text/plain": [
       "  CourseName\n",
       "0     german\n",
       "1    spanish\n",
       "2     german\n",
       "3       math\n",
       "4       math\n",
       "5    spanish"
      ]
     },
     "execution_count": 16,
     "metadata": {},
     "output_type": "execute_result"
    }
   ],
   "source": [
    "SchoolStudent.student_information(student_id = 1, \n",
    "                                 student_information = 'all courses')"
   ]
  },
  {
   "cell_type": "code",
   "execution_count": 17,
   "id": "04fc261e-5103-404a-a253-8f2d393a7991",
   "metadata": {},
   "outputs": [
    {
     "data": {
      "text/html": [
       "<div>\n",
       "<style scoped>\n",
       "    .dataframe tbody tr th:only-of-type {\n",
       "        vertical-align: middle;\n",
       "    }\n",
       "\n",
       "    .dataframe tbody tr th {\n",
       "        vertical-align: top;\n",
       "    }\n",
       "\n",
       "    .dataframe thead th {\n",
       "        text-align: right;\n",
       "    }\n",
       "</style>\n",
       "<table border=\"1\" class=\"dataframe\">\n",
       "  <thead>\n",
       "    <tr style=\"text-align: right;\">\n",
       "      <th></th>\n",
       "      <th>FirstName</th>\n",
       "      <th>FamilyName</th>\n",
       "      <th>Grade</th>\n",
       "      <th>CourseName</th>\n",
       "    </tr>\n",
       "  </thead>\n",
       "  <tbody>\n",
       "    <tr>\n",
       "      <th>0</th>\n",
       "      <td>Arturo</td>\n",
       "      <td>Camacho Guardian</td>\n",
       "      <td>A</td>\n",
       "      <td>math</td>\n",
       "    </tr>\n",
       "    <tr>\n",
       "      <th>1</th>\n",
       "      <td>Arturo</td>\n",
       "      <td>Camacho Guardian</td>\n",
       "      <td>A</td>\n",
       "      <td>math</td>\n",
       "    </tr>\n",
       "  </tbody>\n",
       "</table>\n",
       "</div>"
      ],
      "text/plain": [
       "  FirstName        FamilyName Grade CourseName\n",
       "0    Arturo  Camacho Guardian     A       math\n",
       "1    Arturo  Camacho Guardian     A       math"
      ]
     },
     "execution_count": 17,
     "metadata": {},
     "output_type": "execute_result"
    }
   ],
   "source": [
    "SchoolStudent.student_information(student_id = 2,\n",
    "                                         course_id = 1,\n",
    "                                            student_information = 'course grade')"
   ]
  },
  {
   "cell_type": "code",
   "execution_count": 18,
   "id": "666b9d15-ba8b-448f-8879-f1c7bcee99c4",
   "metadata": {},
   "outputs": [
    {
     "data": {
      "text/html": [
       "<div>\n",
       "<style scoped>\n",
       "    .dataframe tbody tr th:only-of-type {\n",
       "        vertical-align: middle;\n",
       "    }\n",
       "\n",
       "    .dataframe tbody tr th {\n",
       "        vertical-align: top;\n",
       "    }\n",
       "\n",
       "    .dataframe thead th {\n",
       "        text-align: right;\n",
       "    }\n",
       "</style>\n",
       "<table border=\"1\" class=\"dataframe\">\n",
       "  <thead>\n",
       "    <tr style=\"text-align: right;\">\n",
       "      <th></th>\n",
       "      <th>FirstName</th>\n",
       "      <th>FamilyName</th>\n",
       "      <th>AverageGrade</th>\n",
       "    </tr>\n",
       "  </thead>\n",
       "  <tbody>\n",
       "    <tr>\n",
       "      <th>0</th>\n",
       "      <td>Arturo</td>\n",
       "      <td>Camacho Guardian</td>\n",
       "      <td>5.0</td>\n",
       "    </tr>\n",
       "  </tbody>\n",
       "</table>\n",
       "</div>"
      ],
      "text/plain": [
       "  FirstName        FamilyName  AverageGrade\n",
       "0    Arturo  Camacho Guardian           5.0"
      ]
     },
     "execution_count": 18,
     "metadata": {},
     "output_type": "execute_result"
    }
   ],
   "source": [
    "SchoolStudent.student_information(student_id = 2,\n",
    "                                            student_information = 'student average')"
   ]
  },
  {
   "cell_type": "code",
   "execution_count": null,
   "id": "b266d75d-730d-46f8-bfdf-7c6bc2872f65",
   "metadata": {},
   "outputs": [],
   "source": []
  },
  {
   "cell_type": "markdown",
   "id": "3850b0fb-07bc-4cdd-aa6e-0a13fd588449",
   "metadata": {},
   "source": []
  },
  {
   "cell_type": "code",
   "execution_count": 2,
   "id": "a2c03b01-b6e4-423e-b30f-6c95b4903bb0",
   "metadata": {},
   "outputs": [
    {
     "name": "stdout",
     "output_type": "stream",
     "text": [
      "Course added\n"
     ]
    }
   ],
   "source": []
  },
  {
   "cell_type": "code",
   "execution_count": 3,
   "id": "44c0e8fa-1e1d-46c7-9b85-393aab7d8cf3",
   "metadata": {},
   "outputs": [
    {
     "name": "stdout",
     "output_type": "stream",
     "text": [
      "Course added\n"
     ]
    }
   ],
   "source": [
    "SchoolCourse.course(course_name = 'German II',\n",
    "                     start_date = '2021-01-01',\n",
    "                     end_date = '2021-01-10',\n",
    "                     credit = 3,\n",
    "                     capacity =10)"
   ]
  },
  {
   "cell_type": "code",
   "execution_count": 4,
   "id": "61647c80-fe93-4792-9241-5a39e91720c5",
   "metadata": {},
   "outputs": [
    {
     "name": "stdout",
     "output_type": "stream",
     "text": [
      "Course added\n"
     ]
    }
   ],
   "source": [
    "SchoolCourse.course(course_name = 'Spanish III',\n",
    "                     start_date = '2021-01-01',\n",
    "                     end_date = '2021-01-05',\n",
    "                     credit = 3,\n",
    "                     capacity =10)\n"
   ]
  },
  {
   "cell_type": "code",
   "execution_count": 17,
   "id": "5cb59536-ef7f-4ff2-9109-2f07304721ee",
   "metadata": {},
   "outputs": [],
   "source": [
    "SchoolCourse.course(course_name = 'sport',\n",
    "                     start_date = '2021-01-07',\n",
    "                     end_date = '2021-01-17',\n",
    "                     credit = 3,\n",
    "                     capacity =10)"
   ]
  },
  {
   "cell_type": "code",
   "execution_count": 6,
   "id": "fbc89de4-b222-4618-91e9-d4a586e98d96",
   "metadata": {},
   "outputs": [
    {
     "name": "stdout",
     "output_type": "stream",
     "text": [
      "Updated Course Information\n"
     ]
    }
   ],
   "source": [
    "SchoolCourse.course(course_id = 1,\n",
    "                    course_name = 'Linear Algebra II')"
   ]
  },
  {
   "cell_type": "markdown",
   "id": "36753842-c27a-48e1-a34a-598cb067c5cf",
   "metadata": {},
   "source": [
    "<h1 style=\"text-align:center\">\n",
    "Add student to Course\n",
    "</h1>"
   ]
  },
  {
   "cell_type": "code",
   "execution_count": 2,
   "id": "64f01c03-022e-4b5c-82cc-20e64474ed30",
   "metadata": {},
   "outputs": [
    {
     "ename": "NameError",
     "evalue": "name 'ValidateStudentCourseInfo' is not defined",
     "output_type": "error",
     "traceback": [
      "\u001b[0;31m---------------------------------------------------------------------------\u001b[0m",
      "\u001b[0;31mNameError\u001b[0m                                 Traceback (most recent call last)",
      "\u001b[0;32m/tmp/ipykernel_4654/3396934647.py\u001b[0m in \u001b[0;36m<module>\u001b[0;34m\u001b[0m\n\u001b[1;32m      1\u001b[0m \u001b[0mnew_student_in_course\u001b[0m \u001b[0;34m=\u001b[0m \u001b[0mSchoolCourse\u001b[0m\u001b[0;34m(\u001b[0m\u001b[0;34m)\u001b[0m\u001b[0;34m\u001b[0m\u001b[0;34m\u001b[0m\u001b[0m\n\u001b[1;32m      2\u001b[0m new_student_in_course.student_to_course(student_id = 50,\n\u001b[0;32m----> 3\u001b[0;31m                                         course_id = 5)\n\u001b[0m",
      "\u001b[0;32m~/UW/school/course.py\u001b[0m in \u001b[0;36mstudent_to_course\u001b[0;34m(student_id, course_id, action)\u001b[0m\n\u001b[1;32m     43\u001b[0m         student_course = Course(student_id,\n\u001b[1;32m     44\u001b[0m                                 course_id)\n\u001b[0;32m---> 45\u001b[0;31m         \u001b[0mvalidate_info\u001b[0m \u001b[0;34m=\u001b[0m \u001b[0mValidateStudentCourseInfo\u001b[0m\u001b[0;34m(\u001b[0m\u001b[0;34m)\u001b[0m\u001b[0;34m\u001b[0m\u001b[0;34m\u001b[0m\u001b[0m\n\u001b[0m\u001b[1;32m     46\u001b[0m         validate_info.check_student_course_exist(course_id = course_id,\n\u001b[1;32m     47\u001b[0m                                    student_id = student_id)\n",
      "\u001b[0;31mNameError\u001b[0m: name 'ValidateStudentCourseInfo' is not defined"
     ]
    }
   ],
   "source": [
    "new_student_in_course = SchoolCourse()\n",
    "new_student_in_course.student_to_course(student_id = 50,\n",
    "                                        course_id = 5)"
   ]
  },
  {
   "cell_type": "code",
   "execution_count": 19,
   "id": "d51723e9-892e-4c41-8d13-7e08f5c8116b",
   "metadata": {},
   "outputs": [],
   "source": [
    "new_student_in_course2 = StudentInCourse(student_id = 1)\n",
    "new_student_in_course2.add_student_to_course(course_id = 3)"
   ]
  },
  {
   "cell_type": "code",
   "execution_count": 20,
   "id": "84f393ed-8d43-420f-8018-1464d7d81138",
   "metadata": {},
   "outputs": [],
   "source": [
    "new_student_in_course3 = StudentInCourse(student_id = 2)\n",
    "new_student_in_course3.add_student_to_course(course_id = 1)"
   ]
  },
  {
   "cell_type": "code",
   "execution_count": 21,
   "id": "c1c4f5a9-69e5-4bb3-8442-498c5ef94470",
   "metadata": {},
   "outputs": [],
   "source": [
    "new_student_in_course4 = StudentInCourse(student_id = 2)\n",
    "new_student_in_course4.add_student_to_course(course_id = 3)"
   ]
  },
  {
   "cell_type": "code",
   "execution_count": 2,
   "id": "cb082091-38de-48e6-8cbc-c3209e48c750",
   "metadata": {},
   "outputs": [],
   "source": [
    "new_student_in_course5 = StudentInCourse(student_id = 3)\n",
    "new_student_in_course5.remove_student_to_course(course_id = 1)"
   ]
  },
  {
   "cell_type": "code",
   "execution_count": null,
   "id": "f343883a-4600-4753-a1e0-3051ecf5f7a8",
   "metadata": {},
   "outputs": [],
   "source": []
  },
  {
   "cell_type": "markdown",
   "id": "65896d94-9768-4b84-862a-7792e88fdab0",
   "metadata": {},
   "source": [
    "<h1 style=\"text-align:center\">\n",
    "Add student's grade\n",
    "</h1>"
   ]
  },
  {
   "cell_type": "code",
   "execution_count": 4,
   "id": "12e2c8a1-ec27-4545-b2d0-69472acd75d1",
   "metadata": {},
   "outputs": [],
   "source": []
  },
  {
   "cell_type": "code",
   "execution_count": 2,
   "id": "93447f3b-2be6-4548-b097-51a8f14f25c7",
   "metadata": {},
   "outputs": [
    {
     "ename": "ValueError",
     "evalue": "Student not in course",
     "output_type": "error",
     "traceback": [
      "\u001b[0;31m---------------------------------------------------------------------------\u001b[0m",
      "\u001b[0;31mValueError\u001b[0m                                Traceback (most recent call last)",
      "\u001b[0;32m/tmp/ipykernel_8078/3008304321.py\u001b[0m in \u001b[0;36m<module>\u001b[0;34m\u001b[0m\n\u001b[1;32m      1\u001b[0m \u001b[0madd_grade\u001b[0m \u001b[0;34m=\u001b[0m \u001b[0mGrade\u001b[0m\u001b[0;34m(\u001b[0m\u001b[0mcourse_id\u001b[0m \u001b[0;34m=\u001b[0m \u001b[0;36m1\u001b[0m\u001b[0;34m)\u001b[0m\u001b[0;34m\u001b[0m\u001b[0;34m\u001b[0m\u001b[0m\n\u001b[0;32m----> 2\u001b[0;31m \u001b[0madd_grade\u001b[0m\u001b[0;34m.\u001b[0m\u001b[0madd\u001b[0m\u001b[0;34m(\u001b[0m\u001b[0mstudent_id\u001b[0m \u001b[0;34m=\u001b[0m \u001b[0;36m1\u001b[0m\u001b[0;34m,\u001b[0m \u001b[0mgrade\u001b[0m \u001b[0;34m=\u001b[0m \u001b[0;34m'B'\u001b[0m\u001b[0;34m)\u001b[0m\u001b[0;34m\u001b[0m\u001b[0;34m\u001b[0m\u001b[0m\n\u001b[0m",
      "\u001b[0;32m~/UW/school/grade.py\u001b[0m in \u001b[0;36madd\u001b[0;34m(self, student_id, grade)\u001b[0m\n\u001b[1;32m     21\u001b[0m         \u001b[0mcheck_grade_logic\u001b[0m \u001b[0;34m=\u001b[0m \u001b[0mValidateStudentGrade\u001b[0m\u001b[0;34m(\u001b[0m\u001b[0;34m)\u001b[0m\u001b[0;34m\u001b[0m\u001b[0;34m\u001b[0m\u001b[0m\n\u001b[1;32m     22\u001b[0m         \u001b[0mcheck_grade_logic\u001b[0m\u001b[0;34m.\u001b[0m\u001b[0mvalid_grade\u001b[0m\u001b[0;34m(\u001b[0m\u001b[0mgrade\u001b[0m\u001b[0;34m)\u001b[0m\u001b[0;34m\u001b[0m\u001b[0;34m\u001b[0m\u001b[0m\n\u001b[0;32m---> 23\u001b[0;31m         \u001b[0mcheck_grade_logic\u001b[0m\u001b[0;34m.\u001b[0m\u001b[0mvalid_student\u001b[0m\u001b[0;34m(\u001b[0m\u001b[0mcourse_id\u001b[0m \u001b[0;34m=\u001b[0m \u001b[0mself\u001b[0m\u001b[0;34m.\u001b[0m\u001b[0mcourse_id\u001b[0m\u001b[0;34m,\u001b[0m \u001b[0mstudent_id\u001b[0m \u001b[0;34m=\u001b[0m \u001b[0mstudent_id\u001b[0m\u001b[0;34m)\u001b[0m\u001b[0;34m\u001b[0m\u001b[0;34m\u001b[0m\u001b[0m\n\u001b[0m\u001b[1;32m     24\u001b[0m \u001b[0;34m\u001b[0m\u001b[0m\n\u001b[1;32m     25\u001b[0m         rows_to_insert = [{\"CourseId\":  int(self.course_id),\n",
      "\u001b[0;32m~/UW/school/_business_rules.py\u001b[0m in \u001b[0;36mvalid_student\u001b[0;34m(course_id, student_id)\u001b[0m\n\u001b[1;32m     75\u001b[0m             \u001b[0;32mTrue\u001b[0m\u001b[0;34m\u001b[0m\u001b[0;34m\u001b[0m\u001b[0m\n\u001b[1;32m     76\u001b[0m         \u001b[0;32melse\u001b[0m\u001b[0;34m:\u001b[0m\u001b[0;34m\u001b[0m\u001b[0;34m\u001b[0m\u001b[0m\n\u001b[0;32m---> 77\u001b[0;31m             \u001b[0;32mraise\u001b[0m \u001b[0mValueError\u001b[0m\u001b[0;34m(\u001b[0m\u001b[0;34m'Student not in course'\u001b[0m\u001b[0;34m)\u001b[0m\u001b[0;34m\u001b[0m\u001b[0;34m\u001b[0m\u001b[0m\n\u001b[0m\u001b[1;32m     78\u001b[0m \u001b[0;34m\u001b[0m\u001b[0m\n\u001b[1;32m     79\u001b[0m \u001b[0;34m\u001b[0m\u001b[0m\n",
      "\u001b[0;31mValueError\u001b[0m: Student not in course"
     ]
    }
   ],
   "source": [
    "add_grade = Grade(course_id = 1)\n",
    "add_grade.add(student_id = 1, grade = 'B')"
   ]
  },
  {
   "cell_type": "code",
   "execution_count": null,
   "id": "ad2e2403-6eec-429f-8167-bf4cc0b2aa8a",
   "metadata": {},
   "outputs": [],
   "source": [
    "add_grade = Grade(course_id = 1)\n",
    "add_grade.update(student_id = 1, grade = 'B')"
   ]
  },
  {
   "cell_type": "code",
   "execution_count": null,
   "id": "d4fc916f-c5de-4d03-a327-60e0bea2e4a7",
   "metadata": {},
   "outputs": [],
   "source": []
  },
  {
   "cell_type": "markdown",
   "id": "fe598faf-57e5-4f24-b5a5-2c93331e58e5",
   "metadata": {},
   "source": [
    "<h1 style=\"text-align:center\">\n",
    "Add schedules\n",
    "</h1>"
   ]
  },
  {
   "cell_type": "code",
   "execution_count": null,
   "id": "38fa146f-6bdd-40ef-986c-40b48965b042",
   "metadata": {},
   "outputs": [],
   "source": []
  },
  {
   "cell_type": "code",
   "execution_count": null,
   "id": "3869facb-c10d-4075-9c78-c3ca7bc179da",
   "metadata": {},
   "outputs": [],
   "source": []
  }
 ],
 "metadata": {
  "environment": {
   "kernel": "python3",
   "name": "common-cpu.m95",
   "type": "gcloud",
   "uri": "gcr.io/deeplearning-platform-release/base-cpu:m95"
  },
  "kernelspec": {
   "display_name": "Python 3",
   "language": "python",
   "name": "python3"
  },
  "language_info": {
   "codemirror_mode": {
    "name": "ipython",
    "version": 3
   },
   "file_extension": ".py",
   "mimetype": "text/x-python",
   "name": "python",
   "nbconvert_exporter": "python",
   "pygments_lexer": "ipython3",
   "version": "3.7.12"
  }
 },
 "nbformat": 4,
 "nbformat_minor": 5
}
